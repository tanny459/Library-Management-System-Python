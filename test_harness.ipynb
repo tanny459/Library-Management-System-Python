{
 "cells": [
  {
   "cell_type": "code",
   "execution_count": 1,
   "id": "776dfc04",
   "metadata": {},
   "outputs": [],
   "source": [
    "from main import *"
   ]
  },
  {
   "cell_type": "code",
   "execution_count": null,
   "id": "35b7f23e",
   "metadata": {
    "scrolled": false
   },
   "outputs": [
    {
     "name": "stdout",
     "output_type": "stream",
     "text": [
      "╔══════════════════════════════════════╗\n",
      "║            Library Management        ║\n",
      "║                System                ║\n",
      "╠══════════════════════════════════════╣\n",
      "║ 1.  Add Book                         ║\n",
      "║ 2.  Add User                         ║\n",
      "║ 3.  Update Book                      ║\n",
      "║ 4.  Update User                      ║\n",
      "║ 5.  Delete Book                      ║\n",
      "║ 6.  Delete User                      ║\n",
      "║ 7.  Check-out Book                   ║\n",
      "║ 8.  Check-in Book                    ║\n",
      "║ 9.  List Books                       ║\n",
      "║ 10. List Users                       ║\n",
      "║ 11. Search Books                     ║\n",
      "║ 12. Search Users                     ║\n",
      "║ 13. Exit                             ║\n",
      "╚══════════════════════════════════════╝\n",
      "Enter your choice: 11\n",
      "Please provide Title or Author Infromation to search books: Jai Sai Deepak\n",
      "*****************************************************\n",
      "India that is Bharat by Jai Sai Deepak (ISBN: 9736353452632)\n",
      "*****************************************************\n",
      "╔══════════════════════════════════════╗\n",
      "║            Library Management        ║\n",
      "║                System                ║\n",
      "╠══════════════════════════════════════╣\n",
      "║ 1.  Add Book                         ║\n",
      "║ 2.  Add User                         ║\n",
      "║ 3.  Update Book                      ║\n",
      "║ 4.  Update User                      ║\n",
      "║ 5.  Delete Book                      ║\n",
      "║ 6.  Delete User                      ║\n",
      "║ 7.  Check-out Book                   ║\n",
      "║ 8.  Check-in Book                    ║\n",
      "║ 9.  List Books                       ║\n",
      "║ 10. List Users                       ║\n",
      "║ 11. Search Books                     ║\n",
      "║ 12. Search Users                     ║\n",
      "║ 13. Exit                             ║\n",
      "╚══════════════════════════════════════╝\n",
      "Enter your choice: 12\n"
     ]
    }
   ],
   "source": [
    "if __name__ == \"__main__\":\n",
    "    main()"
   ]
  },
  {
   "cell_type": "code",
   "execution_count": null,
   "id": "e84321eb",
   "metadata": {},
   "outputs": [],
   "source": []
  },
  {
   "cell_type": "code",
   "execution_count": null,
   "id": "ff24dcd3",
   "metadata": {},
   "outputs": [],
   "source": []
  },
  {
   "cell_type": "code",
   "execution_count": null,
   "id": "0a18a184",
   "metadata": {},
   "outputs": [],
   "source": []
  },
  {
   "cell_type": "code",
   "execution_count": null,
   "id": "547b5447",
   "metadata": {},
   "outputs": [],
   "source": []
  },
  {
   "cell_type": "code",
   "execution_count": null,
   "id": "1d83a06d",
   "metadata": {},
   "outputs": [],
   "source": []
  },
  {
   "cell_type": "code",
   "execution_count": null,
   "id": "a6fbf9bb",
   "metadata": {},
   "outputs": [],
   "source": []
  },
  {
   "cell_type": "code",
   "execution_count": null,
   "id": "3995bef5",
   "metadata": {},
   "outputs": [],
   "source": []
  },
  {
   "cell_type": "code",
   "execution_count": null,
   "id": "eef18eea",
   "metadata": {},
   "outputs": [],
   "source": []
  },
  {
   "cell_type": "code",
   "execution_count": null,
   "id": "3179a511",
   "metadata": {},
   "outputs": [],
   "source": []
  },
  {
   "cell_type": "code",
   "execution_count": null,
   "id": "bfcd825f",
   "metadata": {},
   "outputs": [],
   "source": []
  },
  {
   "cell_type": "code",
   "execution_count": null,
   "id": "53c81625",
   "metadata": {},
   "outputs": [],
   "source": []
  }
 ],
 "metadata": {
  "kernelspec": {
   "display_name": "Python 3 (ipykernel)",
   "language": "python",
   "name": "python3"
  },
  "language_info": {
   "codemirror_mode": {
    "name": "ipython",
    "version": 3
   },
   "file_extension": ".py",
   "mimetype": "text/x-python",
   "name": "python",
   "nbconvert_exporter": "python",
   "pygments_lexer": "ipython3",
   "version": "3.10.12"
  }
 },
 "nbformat": 4,
 "nbformat_minor": 5
}
